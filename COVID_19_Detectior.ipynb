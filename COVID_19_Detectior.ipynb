{
  "nbformat": 4,
  "nbformat_minor": 0,
  "metadata": {
    "colab": {
      "name": "COVID-19 Detectior",
      "provenance": [],
      "collapsed_sections": []
    },
    "kernelspec": {
      "name": "python3",
      "display_name": "Python 3"
    },
    "language_info": {
      "name": "python"
    },
    "accelerator": "GPU"
  },
  "cells": [
    {
      "cell_type": "code",
      "metadata": {
        "id": "pEA8rt-I4NJa",
        "colab": {
          "base_uri": "https://localhost:8080/"
        },
        "outputId": "82db2c44-72ee-4b0b-ce5b-9440986d9f62"
      },
      "source": [
        "!unzip Dataset"
      ],
      "execution_count": null,
      "outputs": [
        {
          "output_type": "stream",
          "text": [
            "unzip:  cannot find or open Dataset, Dataset.zip or Dataset.ZIP.\n"
          ],
          "name": "stdout"
        }
      ]
    },
    {
      "cell_type": "code",
      "metadata": {
        "colab": {
          "base_uri": "https://localhost:8080/"
        },
        "id": "JsKuoBm09en2",
        "outputId": "ec520c09-e7b9-4cee-95fc-7f3768040eec"
      },
      "source": [
        "!unzip Dataset.zip"
      ],
      "execution_count": 11,
      "outputs": [
        {
          "output_type": "stream",
          "text": [
            "Archive:  Dataset.zip\n",
            "   creating: Dataset/.ipynb_checkpoints/\n",
            "   creating: Dataset/Covid/\n",
            "  inflating: Dataset/Covid/01E392EE-69F9-4E33-BFCE-E5C968654078.jpeg  \n",
            "  inflating: Dataset/Covid/03BF7561-A9BA-4C3C-B8A0-D3E585F73F3C.jpeg  \n",
            "  inflating: Dataset/Covid/0a7faa2a.jpg  \n",
            "  inflating: Dataset/Covid/1.CXRCTThoraximagesofCOVID-19fromSingapore.pdf-000-fig1a.png  \n",
            "  inflating: Dataset/Covid/1.CXRCTThoraximagesofCOVID-19fromSingapore.pdf-000-fig1b.png  \n",
            "  inflating: Dataset/Covid/1.CXRCTThoraximagesofCOVID-19fromSingapore.pdf-001-fig2a.png  \n",
            "  inflating: Dataset/Covid/1.CXRCTThoraximagesofCOVID-19fromSingapore.pdf-001-fig2b.png  \n",
            "  inflating: Dataset/Covid/1.CXRCTThoraximagesofCOVID-19fromSingapore.pdf-002-fig3a.png  \n",
            "  inflating: Dataset/Covid/1.CXRCTThoraximagesofCOVID-19fromSingapore.pdf-002-fig3b.png  \n",
            "  inflating: Dataset/Covid/1.CXRCTThoraximagesofCOVID-19fromSingapore.pdf-003-fig4a.png  \n",
            "  inflating: Dataset/Covid/1.CXRCTThoraximagesofCOVID-19fromSingapore.pdf-003-fig4b.png  \n",
            "  inflating: Dataset/Covid/10.1016-slash-j.anl.2020.04.002-a.png  \n",
            "  inflating: Dataset/Covid/10.1016-slash-j.crad.2020.04.002-a.png  \n",
            "  inflating: Dataset/Covid/10.1016-slash-j.crad.2020.04.002-b.png  \n",
            "  inflating: Dataset/Covid/1052b0fe.jpg  \n",
            "  inflating: Dataset/Covid/1141cc2b8b9cc394becce5d978b5a7_jumbo.jpeg  \n",
            "  inflating: Dataset/Covid/12941_2020_358_Fig1_HTML.jpg  \n",
            "  inflating: Dataset/Covid/1312A392-67A3-4EBF-9319-810CF6DA5EF6.jpeg  \n",
            "  inflating: Dataset/Covid/14d81f378173b86cc53f21d2d67040_jumbo.jpeg  \n",
            "  inflating: Dataset/Covid/16660_1_1.jpg  \n",
            "  inflating: Dataset/Covid/16660_2_1.jpg  \n",
            "  inflating: Dataset/Covid/16660_3_1.jpg  \n",
            "  inflating: Dataset/Covid/16660_4_1.jpg  \n",
            "  inflating: Dataset/Covid/16660_5_1.jpg  \n",
            "  inflating: Dataset/Covid/16663_1_1.jpg  \n",
            "  inflating: Dataset/Covid/16664_1_1.jpg  \n",
            "  inflating: Dataset/Covid/16669_3_1.jpeg  \n",
            "  inflating: Dataset/Covid/16672_1_1.jpg  \n",
            "  inflating: Dataset/Covid/16708_1_1.jpg  \n",
            "  inflating: Dataset/Covid/16708_4_1.jpg  \n",
            "  inflating: Dataset/Covid/16708_5_1.jpg  \n",
            "  inflating: Dataset/Covid/16745_5_1.png  \n",
            "  inflating: Dataset/Covid/16747_1_1.jpg  \n",
            "  inflating: Dataset/Covid/16865_1_1.jpg  \n",
            "  inflating: Dataset/Covid/16953_3_1.jpg  \n",
            "  inflating: Dataset/Covid/16953_4_1.jpg  \n",
            "  inflating: Dataset/Covid/16953_5_1.jpg  \n",
            "  inflating: Dataset/Covid/19abe1f3.jpg  \n",
            "  inflating: Dataset/Covid/1B734A89-A1BF-49A8-A1D3-66FAFA4FAC5D.jpeg  \n",
            "  inflating: Dataset/Covid/1-s2.0-S0140673620303706-fx1_lrg.jpg  \n",
            "  inflating: Dataset/Covid/1-s2.0-S1684118220300608-main.pdf-001.jpg  \n",
            "  inflating: Dataset/Covid/1-s2.0-S1684118220300608-main.pdf-002.jpg  \n",
            "  inflating: Dataset/Covid/1-s2.0-S1684118220300682-main.pdf-002-a1.png  \n",
            "  inflating: Dataset/Covid/1-s2.0-S1684118220300682-main.pdf-002-a2.png  \n",
            "  inflating: Dataset/Covid/1-s2.0-S1684118220300682-main.pdf-003-b1.png  \n",
            "  inflating: Dataset/Covid/1-s2.0-S1684118220300682-main.pdf-003-b2.png  \n",
            "  inflating: Dataset/Covid/1-s2.0-S2214250920300834-gr1_lrg-b.png  \n",
            "  inflating: Dataset/Covid/1-s2.0-S2214250920300834-gr1_lrg-c.png  \n",
            "  inflating: Dataset/Covid/1-s2.0-S2387020620301959-gr4_lrg-b.png  \n",
            "  inflating: Dataset/Covid/1-s2.0-S2387020620301959-gr4_lrg-c.png  \n",
            "  inflating: Dataset/Covid/2168a917.jpg  \n",
            "  inflating: Dataset/Covid/23E99E2E-447C-46E5-8EB2-D35D12473C39.png  \n",
            "  inflating: Dataset/Covid/2966893D-5DDF-4B68-9E2B-4979D5956C8E.jpeg  \n",
            "  inflating: Dataset/Covid/2C26F453-AF3B-4517-BB9E-802CF2179543.jpeg  \n",
            "  inflating: Dataset/Covid/2cd63b76.jpg  \n",
            "  inflating: Dataset/Covid/2-chest-filmc.jpg  \n",
            "  inflating: Dataset/Covid/2edb88df42cab5e5fbc18b3965e0bd_jumbo.jpeg  \n",
            "  inflating: Dataset/Covid/353889E0-A1E8-4F9E-A0B8-F24F36BCFBFB.jpeg  \n",
            "  inflating: Dataset/Covid/3b46de94.jpg  \n",
            "  inflating: Dataset/Covid/40779_2020_233_Fig2_HTML-a.png  \n",
            "  inflating: Dataset/Covid/41182_2020_203_Fig3_HTML.jpg  \n",
            "  inflating: Dataset/Covid/41182_2020_203_Fig4_HTML.jpg  \n",
            "  inflating: Dataset/Covid/41182_2020_203_Fig5_HTML.jpg  \n",
            "  inflating: Dataset/Covid/41379_2020_536_Fig2_HTML-c1.png  \n",
            "  inflating: Dataset/Covid/41591_2020_819_Fig1_HTML.webp-day10.png  \n",
            "  inflating: Dataset/Covid/41591_2020_819_Fig1_HTML.webp-day5.png  \n",
            "  inflating: Dataset/Covid/441c9cdd.jpg  \n",
            "  inflating: Dataset/Covid/48c4542c.jpg  \n",
            "  inflating: Dataset/Covid/4d98e1de.jpg  \n",
            "  inflating: Dataset/Covid/4e43e48d52c9e2d4c6c1fb9bc1544f_jumbo.jpeg  \n",
            "  inflating: Dataset/Covid/53EC07C9-5CC6-4BE4-9B6F-D7B0D72AAA7E.jpeg  \n",
            "  inflating: Dataset/Covid/5782ae15.jpg  \n",
            "  inflating: Dataset/Covid/58cb9263f16e94305c730685358e4e_jumbo.jpeg  \n",
            "  inflating: Dataset/Covid/5f619d7e.jpg  \n",
            "  inflating: Dataset/Covid/6b3bdbc31f65230b8cdcc3cef5f8ba8a-40ac-0.jpg  \n",
            "  inflating: Dataset/Covid/6b44464d-73a7-4cf3-bbb6-ffe7168300e3.annot.original.jpeg  \n",
            "  inflating: Dataset/Covid/6C94A287-C059-46A0-8600-AFB95F4727B7.jpeg  \n",
            "  inflating: Dataset/Covid/6CB4EFC6-68FA-4CD5-940C-BEFA8DAFE9A7.jpeg  \n",
            "  inflating: Dataset/Covid/7AF6C1AF-D249-4BD2-8C26-449304105D03.jpeg  \n",
            "  inflating: Dataset/Covid/7afaaccc.jpg  \n",
            "  inflating: Dataset/Covid/7C69C012-7479-493F-8722-ABC29C60A2DD.jpeg  \n",
            "  inflating: Dataset/Covid/7-fatal-covid19.jpg  \n",
            "  inflating: Dataset/Covid/80446565-E090-4187-A031-9D3CEAA586C8.jpeg  \n",
            "  inflating: Dataset/Covid/80b5f00f.jpg  \n",
            "  inflating: Dataset/Covid/82a78c13.jpg  \n",
            "  inflating: Dataset/Covid/88de9d8c39e946abd495b37cd07d89e5-2ee6-0.jpg  \n",
            "  inflating: Dataset/Covid/88de9d8c39e946abd495b37cd07d89e5-6531-0.jpg  \n",
            "  inflating: Dataset/Covid/8da14fff.jpg  \n",
            "  inflating: Dataset/Covid/8fc103ca.jpg  \n",
            "  inflating: Dataset/Covid/8FDE8DBA-CFBD-4B4C-B1A4-6F36A93B7E87.jpeg  \n",
            "  inflating: Dataset/Covid/90986ce4.jpg  \n",
            "  inflating: Dataset/Covid/93FE0BB1-022D-4F24-9727-987A07975FFB.jpeg  \n",
            "  inflating: Dataset/Covid/9C34AF49-E589-44D5-92D3-168B3B04E4A6.jpeg  \n",
            "  inflating: Dataset/Covid/9fdd3c3032296fd04d2cad5d9070d4_jumbo.jpeg  \n",
            "  inflating: Dataset/Covid/a2eba651.jpg  \n",
            "  inflating: Dataset/Covid/a361d7b7.jpg  \n",
            "  inflating: Dataset/Covid/a8ac1969.jpg  \n",
            "  inflating: Dataset/Covid/ac4f6e4e.jpg  \n",
            "  inflating: Dataset/Covid/ae6c954c0039de4b5edee53865ffee43-e6c8-0.jpg  \n",
            "  inflating: Dataset/Covid/all14238-fig-0001-m-b.jpg  \n",
            "  inflating: Dataset/Covid/all14238-fig-0001-m-c.jpg  \n",
            "  inflating: Dataset/Covid/AR-1.jpg  \n",
            "  inflating: Dataset/Covid/AR-2.jpg  \n",
            "  inflating: Dataset/Covid/article_river_e4d185c06e3511eaa2321d8ab357a1de-c1mn.png  \n",
            "  inflating: Dataset/Covid/auntminnie-a-2020_01_28_23_51_6665_2020_01_28_Vietnam_coronavirus.jpeg  \n",
            "  inflating: Dataset/Covid/auntminnie-b-2020_01_28_23_51_6665_2020_01_28_Vietnam_coronavirus.jpeg  \n",
            "  inflating: Dataset/Covid/auntminnie-c-2020_01_28_23_51_6665_2020_01_28_Vietnam_coronavirus.jpeg  \n",
            "  inflating: Dataset/Covid/auntminnie-d-2020_01_28_23_51_6665_2020_01_28_Vietnam_coronavirus.jpeg  \n",
            "  inflating: Dataset/Covid/b0f1684d1ee90dc09deef015e29dae_jumbo.jpeg  \n",
            "  inflating: Dataset/Covid/b9673e89.jpg  \n",
            "  inflating: Dataset/Covid/bb0e626a.jpg  \n",
            "  inflating: Dataset/Covid/bd10d5e2.jpg  \n",
            "  inflating: Dataset/Covid/BMJ-37-163-g1.jpg  \n",
            "  inflating: Dataset/Covid/c0f74558.jpg  \n",
            "  inflating: Dataset/Covid/c3829ecb.jpg  \n",
            "  inflating: Dataset/Covid/c601f50d.jpg  \n",
            "  inflating: Dataset/Covid/CD50BA96-6982-4C80-AE7B-5F67ACDBFA56.jpeg  \n",
            "  inflating: Dataset/Covid/ciaa199.pdf-001-a.png  \n",
            "  inflating: Dataset/Covid/ciaa199.pdf-001-b.png  \n",
            "  inflating: Dataset/Covid/covid-19-caso-70-1-PA.jpg  \n",
            "  inflating: Dataset/Covid/covid-19-caso-82-1-8.png  \n",
            "  inflating: Dataset/Covid/covid-19-caso-91-1-12.png  \n",
            "  inflating: Dataset/Covid/covid-19-caso-94-1-14.png  \n",
            "  inflating: Dataset/Covid/covid-19-caso-95-1-15.png  \n",
            "  inflating: Dataset/Covid/covid-19-caso-95-3-14.png  \n",
            "  inflating: Dataset/Covid/covid-19-infection-exclusive-gastrointestinal-symptoms-pa.png  \n",
            "  inflating: Dataset/Covid/covid-19-pneumonia-14-PA.png  \n",
            "  inflating: Dataset/Covid/covid-19-pneumonia-15-PA.jpg  \n",
            "  inflating: Dataset/Covid/covid-19-pneumonia-20.jpg  \n",
            "  inflating: Dataset/Covid/covid-19-pneumonia-20-pa-on-admission.jpg  \n",
            "  inflating: Dataset/Covid/covid-19-pneumonia-22-day1-pa.png  \n",
            "  inflating: Dataset/Covid/covid-19-pneumonia-22-day2-pa.png  \n",
            "  inflating: Dataset/Covid/covid-19-pneumonia-28.png  \n",
            "  inflating: Dataset/Covid/covid-19-pneumonia-30-PA.jpg  \n",
            "  inflating: Dataset/Covid/covid-19-pneumonia-35-1.jpg  \n",
            "  inflating: Dataset/Covid/covid-19-pneumonia-35-2.jpg  \n",
            "  inflating: Dataset/Covid/covid-19-pneumonia-38-pa.jpg  \n",
            "  inflating: Dataset/Covid/covid-19-pneumonia-44-day-0.jpeg  \n",
            "  inflating: Dataset/Covid/covid-19-pneumonia-53.jpg  \n",
            "  inflating: Dataset/Covid/covid-19-pneumonia-7-PA.jpg  \n",
            "  inflating: Dataset/Covid/covid-19-pneumonia-8.jpg  \n",
            "  inflating: Dataset/Covid/covid-19-pneumonia-93.png  \n",
            "  inflating: Dataset/Covid/covid-19-pneumonia-evolution-over-a-week-1-day0-PA.jpg  \n",
            "  inflating: Dataset/Covid/covid-19-pneumonia-mild.JPG  \n",
            "  inflating: Dataset/Covid/covid-19-pneumonia-rapidly-progressive-12-hours.jpg  \n",
            "  inflating: Dataset/Covid/covid-19-pneumonia-rapidly-progressive-3-days.jpg  \n",
            "  inflating: Dataset/Covid/covid-19-pneumonia-rapidly-progressive-admission.jpg  \n",
            "  inflating: Dataset/Covid/covid-19-rapidly-progressive-acute-respiratory-distress-syndrome-ards-admission.jpg  \n",
            "  inflating: Dataset/Covid/covid-19-rapidly-progressive-acute-respiratory-distress-syndrome-ards-day-1.jpg  \n",
            "  inflating: Dataset/Covid/covid-19-rapidly-progressive-acute-respiratory-distress-syndrome-ards-day-2.jpg  \n",
            "  inflating: Dataset/Covid/covid-19-rapidly-progressive-acute-respiratory-distress-syndrome-ards-day-3.jpg  \n",
            "  inflating: Dataset/Covid/d009d61f.jpg  \n",
            "  inflating: Dataset/Covid/d9d6ca9a.jpg  \n",
            "  inflating: Dataset/Covid/e1446fe8.jpg  \n",
            "  inflating: Dataset/Covid/E63574A7-4188-4C8D-8D17-9D67A18A1AFA.jpeg  \n",
            "  inflating: Dataset/Covid/ec083e35.jpg  \n",
            "  inflating: Dataset/Covid/extubation-1.jpg  \n",
            "  inflating: Dataset/Covid/extubation-13.jpg  \n",
            "  inflating: Dataset/Covid/extubation-4.jpg  \n",
            "  inflating: Dataset/Covid/extubation-8.jpg  \n",
            "  inflating: Dataset/Covid/F4341CE7-73C9-45C6-99C8-8567A5484B63.jpeg  \n",
            "  inflating: Dataset/Covid/f64132c8.jpg  \n",
            "  inflating: Dataset/Covid/f6575117.jpg  \n",
            "  inflating: Dataset/Covid/f6d980a0.jpg  \n",
            "  inflating: Dataset/Covid/f8335316.jpg  \n",
            "  inflating: Dataset/Covid/FE9F9A5D-2830-46F9-851B-1FF4534959BE.jpeg  \n",
            "  inflating: Dataset/Covid/fff49165-b22d-4bb4-b9d1-d5d62c52436c.annot.original.png  \n",
            "  inflating: Dataset/Covid/figure1-5e71be566aa8714a04de3386-98-left.jpeg  \n",
            "  inflating: Dataset/Covid/figure1-5e75d0940b71e1b702629659-98-right.jpeg  \n",
            "  inflating: Dataset/Covid/gr1_lrg-a.jpg  \n",
            "  inflating: Dataset/Covid/gr1_lrg-b.jpg  \n",
            "  inflating: Dataset/Covid/kjr-21-e25-g001-l-a.jpg  \n",
            "  inflating: Dataset/Covid/lancet-case2a.jpg  \n",
            "  inflating: Dataset/Covid/lancet-case2b.jpg  \n",
            "  inflating: Dataset/Covid/nCoV-radiol.2020200269.fig1-day7.jpeg  \n",
            "  inflating: Dataset/Covid/nejmc2001573_f1a.jpeg  \n",
            "  inflating: Dataset/Covid/nejmc2001573_f1b.jpeg  \n",
            "  inflating: Dataset/Covid/nejmoa2001191_f1-PA.jpeg  \n",
            "  inflating: Dataset/Covid/nejmoa2001191_f3-PA.jpeg  \n",
            "  inflating: Dataset/Covid/nejmoa2001191_f4.jpeg  \n",
            "  inflating: Dataset/Covid/nejmoa2001191_f5-PA.jpeg  \n",
            "  inflating: Dataset/Covid/paving.jpg  \n",
            "  inflating: Dataset/Covid/radiol.2020200274.fig3d.png  \n",
            "  inflating: Dataset/Covid/radiol.2020200490.fig3.jpeg  \n",
            "  inflating: Dataset/Covid/ryct.2020003.fig2-a.png  \n",
            "  inflating: Dataset/Covid/ryct.2020003.fig2-b.png  \n",
            "  inflating: Dataset/Covid/ryct.2020003.fig2-c.png  \n",
            "  inflating: Dataset/Covid/ryct.2020200028.fig1a.jpeg  \n",
            "  inflating: Dataset/Covid/ryct.2020200034.fig2.jpeg  \n",
            "  inflating: Dataset/Covid/ryct.2020200034.fig5-day0.jpeg  \n",
            "  inflating: Dataset/Covid/ryct.2020200034.fig5-day4.jpeg  \n",
            "  inflating: Dataset/Covid/ryct.2020200034.fig5-day7.jpeg  \n",
            "  inflating: Dataset/Covid/thnov10p5641g006-c.png  \n",
            "  inflating: Dataset/Covid/tpmd200203f2-b.png  \n",
            "  inflating: Dataset/Covid/tpmd200203f2-c.png  \n",
            "  inflating: Dataset/Covid/yxppt-2020-02-19_00-51-27_287214-day8.jpg  \n",
            "   creating: Dataset/Normal/\n",
            "  inflating: Dataset/Normal/IM-0127-0001.jpeg  \n",
            "  inflating: Dataset/Normal/IM-0133-0001.jpeg  \n",
            "  inflating: Dataset/Normal/IM-0137-0001.jpeg  \n",
            "  inflating: Dataset/Normal/IM-0176-0001.jpeg  \n",
            "  inflating: Dataset/Normal/IM-0183-0001.jpeg  \n",
            "  inflating: Dataset/Normal/IM-0199-0001.jpeg  \n",
            "  inflating: Dataset/Normal/IM-0228-0001.jpeg  \n",
            "  inflating: Dataset/Normal/IM-0237-0001.jpeg  \n",
            "  inflating: Dataset/Normal/IM-0244-0001.jpeg  \n",
            "  inflating: Dataset/Normal/IM-0262-0001.jpeg  \n",
            "  inflating: Dataset/Normal/IM-0265-0001.jpeg  \n",
            "  inflating: Dataset/Normal/IM-0331-0001.jpeg  \n",
            "  inflating: Dataset/Normal/IM-0339-0001.jpeg  \n",
            "  inflating: Dataset/Normal/IM-0347-0001.jpeg  \n",
            "  inflating: Dataset/Normal/IM-0356-0001.jpeg  \n",
            "  inflating: Dataset/Normal/IM-0379-0001.jpeg  \n",
            "  inflating: Dataset/Normal/IM-0381-0001.jpeg  \n",
            "  inflating: Dataset/Normal/IM-0384-0001.jpeg  \n",
            "  inflating: Dataset/Normal/IM-0386-0001.jpeg  \n",
            "  inflating: Dataset/Normal/IM-0391-0001.jpeg  \n",
            "  inflating: Dataset/Normal/IM-0394-0001.jpeg  \n",
            "  inflating: Dataset/Normal/IM-0395-0001.jpeg  \n",
            "  inflating: Dataset/Normal/IM-0432-0001.jpeg  \n",
            "  inflating: Dataset/Normal/IM-0439-0001.jpeg  \n",
            "  inflating: Dataset/Normal/IM-0461-0001.jpeg  \n",
            "  inflating: Dataset/Normal/IM-0464-0001.jpeg  \n",
            "  inflating: Dataset/Normal/IM-0478-0001.jpeg  \n",
            "  inflating: Dataset/Normal/IM-0482-0001.jpeg  \n",
            "  inflating: Dataset/Normal/IM-0495-0001.jpeg  \n",
            "  inflating: Dataset/Normal/IM-0500-0001.jpeg  \n",
            "  inflating: Dataset/Normal/IM-0504-0001.jpeg  \n",
            "  inflating: Dataset/Normal/IM-0506-0001.jpeg  \n",
            "  inflating: Dataset/Normal/IM-0516-0001.jpeg  \n",
            "  inflating: Dataset/Normal/IM-0523-0001-0002.jpeg  \n",
            "  inflating: Dataset/Normal/IM-0533-0001.jpeg  \n",
            "  inflating: Dataset/Normal/IM-0539-0001-0002.jpeg  \n",
            "  inflating: Dataset/Normal/IM-0545-0001.jpeg  \n",
            "  inflating: Dataset/Normal/IM-0547-0001.jpeg  \n",
            "  inflating: Dataset/Normal/IM-0571-0001.jpeg  \n",
            "  inflating: Dataset/Normal/IM-0584-0001.jpeg  \n",
            "  inflating: Dataset/Normal/IM-0604-0001.jpeg  \n",
            "  inflating: Dataset/Normal/IM-0605-0001.jpeg  \n",
            "  inflating: Dataset/Normal/IM-0608-0001.jpeg  \n",
            "  inflating: Dataset/Normal/IM-0612-0001-0001.jpeg  \n",
            "  inflating: Dataset/Normal/IM-0612-0001-0002.jpeg  \n",
            "  inflating: Dataset/Normal/IM-0618-0001.jpeg  \n",
            "  inflating: Dataset/Normal/IM-0620-0001-0001.jpeg  \n",
            "  inflating: Dataset/Normal/IM-0628-0001.jpeg  \n",
            "  inflating: Dataset/Normal/IM-0629-0001-0002.jpeg  \n",
            "  inflating: Dataset/Normal/IM-0631-0001-0001.jpeg  \n",
            "  inflating: Dataset/Normal/IM-0631-0001-0002.jpeg  \n",
            "  inflating: Dataset/Normal/IM-0633-0001.jpeg  \n",
            "  inflating: Dataset/Normal/IM-0640-0001.jpeg  \n",
            "  inflating: Dataset/Normal/IM-0640-0001-0002.jpeg  \n",
            "  inflating: Dataset/Normal/IM-0655-0001.jpeg  \n",
            "  inflating: Dataset/Normal/IM-0663-0001.jpeg  \n",
            "  inflating: Dataset/Normal/IM-0672-0001.jpeg  \n",
            "  inflating: Dataset/Normal/IM-0697-0001.jpeg  \n",
            "  inflating: Dataset/Normal/IM-0705-0001.jpeg  \n",
            "  inflating: Dataset/Normal/IM-0706-0001.jpeg  \n",
            "  inflating: Dataset/Normal/IM-0713-0001.jpeg  \n",
            "  inflating: Dataset/Normal/IM-0715-0001.jpeg  \n",
            "  inflating: Dataset/Normal/IM-0722-0001.jpeg  \n",
            "  inflating: Dataset/Normal/IM-0724-0001.jpeg  \n",
            "  inflating: Dataset/Normal/NORMAL2-IM-0384-0001.jpeg  \n",
            "  inflating: Dataset/Normal/NORMAL2-IM-0391-0001.jpeg  \n",
            "  inflating: Dataset/Normal/NORMAL2-IM-0397-0001.jpeg  \n",
            "  inflating: Dataset/Normal/NORMAL2-IM-0404-0001.jpeg  \n",
            "  inflating: Dataset/Normal/NORMAL2-IM-0406-0001.jpeg  \n",
            "  inflating: Dataset/Normal/NORMAL2-IM-0412-0001.jpeg  \n",
            "  inflating: Dataset/Normal/NORMAL2-IM-0417-0001.jpeg  \n",
            "  inflating: Dataset/Normal/NORMAL2-IM-0435-0001.jpeg  \n",
            "  inflating: Dataset/Normal/NORMAL2-IM-0450-0001.jpeg  \n",
            "  inflating: Dataset/Normal/NORMAL2-IM-0452-0001.jpeg  \n",
            "  inflating: Dataset/Normal/NORMAL2-IM-0456-0001.jpeg  \n",
            "  inflating: Dataset/Normal/NORMAL2-IM-0458-0001.jpeg  \n",
            "  inflating: Dataset/Normal/NORMAL2-IM-0465-0001.jpeg  \n",
            "  inflating: Dataset/Normal/NORMAL2-IM-0500-0001.jpeg  \n",
            "  inflating: Dataset/Normal/NORMAL2-IM-0501-0001.jpeg  \n",
            "  inflating: Dataset/Normal/NORMAL2-IM-0512-0001.jpeg  \n",
            "  inflating: Dataset/Normal/NORMAL2-IM-0531-0001.jpeg  \n",
            "  inflating: Dataset/Normal/NORMAL2-IM-0535-0001.jpeg  \n",
            "  inflating: Dataset/Normal/NORMAL2-IM-0583-0001.jpeg  \n",
            "  inflating: Dataset/Normal/NORMAL2-IM-0693-0001.jpeg  \n",
            "  inflating: Dataset/Normal/NORMAL2-IM-0707-0001.jpeg  \n",
            "  inflating: Dataset/Normal/NORMAL2-IM-0719-0001.jpeg  \n",
            "  inflating: Dataset/Normal/NORMAL2-IM-0753-0001.jpeg  \n",
            "  inflating: Dataset/Normal/NORMAL2-IM-0780-0001.jpeg  \n",
            "  inflating: Dataset/Normal/NORMAL2-IM-0799-0001.jpeg  \n",
            "  inflating: Dataset/Normal/NORMAL2-IM-0818-0001.jpeg  \n",
            "  inflating: Dataset/Normal/NORMAL2-IM-0819-0001.jpeg  \n",
            "  inflating: Dataset/Normal/NORMAL2-IM-0828-0001.jpeg  \n",
            "  inflating: Dataset/Normal/NORMAL2-IM-0829-0001.jpeg  \n",
            "  inflating: Dataset/Normal/NORMAL2-IM-0833-0001.jpeg  \n",
            "  inflating: Dataset/Normal/NORMAL2-IM-0839-0001.jpeg  \n",
            "  inflating: Dataset/Normal/NORMAL2-IM-0840-0001.jpeg  \n",
            "  inflating: Dataset/Normal/NORMAL2-IM-0851-0001-0001.jpeg  \n",
            "  inflating: Dataset/Normal/NORMAL2-IM-0853-0001.jpeg  \n",
            "  inflating: Dataset/Normal/NORMAL2-IM-0869-0001.jpeg  \n",
            "  inflating: Dataset/Normal/NORMAL2-IM-0874-0001.jpeg  \n",
            "  inflating: Dataset/Normal/NORMAL2-IM-0888-0001.jpeg  \n",
            "  inflating: Dataset/Normal/NORMAL2-IM-0904-0001.jpeg  \n",
            "  inflating: Dataset/Normal/NORMAL2-IM-0912-0001.jpeg  \n",
            "  inflating: Dataset/Normal/NORMAL2-IM-0935-0001.jpeg  \n",
            "  inflating: Dataset/Normal/NORMAL2-IM-0945-0001.jpeg  \n",
            "  inflating: Dataset/Normal/NORMAL2-IM-0974-0001.jpeg  \n",
            "  inflating: Dataset/Normal/NORMAL2-IM-0976-0001.jpeg  \n",
            "  inflating: Dataset/Normal/NORMAL2-IM-1017-0001.jpeg  \n",
            "  inflating: Dataset/Normal/NORMAL2-IM-1020-0001-0001.jpeg  \n",
            "  inflating: Dataset/Normal/NORMAL2-IM-1046-0001.jpeg  \n",
            "  inflating: Dataset/Normal/NORMAL2-IM-1050-0001.jpeg  \n",
            "  inflating: Dataset/Normal/NORMAL2-IM-1059-0001.jpeg  \n",
            "  inflating: Dataset/Normal/NORMAL2-IM-1096-0001.jpeg  \n",
            "  inflating: Dataset/Normal/NORMAL2-IM-1096-0001-0001.jpeg  \n",
            "  inflating: Dataset/Normal/NORMAL2-IM-1100-0001.jpeg  \n",
            "  inflating: Dataset/Normal/NORMAL2-IM-1109-0001.jpeg  \n",
            "  inflating: Dataset/Normal/NORMAL2-IM-1116-0001-0002.jpeg  \n",
            "  inflating: Dataset/Normal/NORMAL2-IM-1128-0001.jpeg  \n",
            "  inflating: Dataset/Normal/NORMAL2-IM-1128-0001-0002.jpeg  \n",
            "  inflating: Dataset/Normal/NORMAL2-IM-1130-0001.jpeg  \n",
            "  inflating: Dataset/Normal/NORMAL2-IM-1162-0001.jpeg  \n",
            "  inflating: Dataset/Normal/NORMAL2-IM-1177-0001.jpeg  \n",
            "  inflating: Dataset/Normal/NORMAL2-IM-1184-0001.jpeg  \n",
            "  inflating: Dataset/Normal/NORMAL2-IM-1185-0001.jpeg  \n",
            "  inflating: Dataset/Normal/NORMAL2-IM-1188-0001.jpeg  \n",
            "  inflating: Dataset/Normal/NORMAL2-IM-1191-0001.jpeg  \n",
            "  inflating: Dataset/Normal/NORMAL2-IM-1196-0001.jpeg  \n",
            "  inflating: Dataset/Normal/NORMAL2-IM-1214-0001.jpeg  \n",
            "  inflating: Dataset/Normal/NORMAL2-IM-1223-0001.jpeg  \n",
            "  inflating: Dataset/Normal/NORMAL2-IM-1234-0001.jpeg  \n",
            "  inflating: Dataset/Normal/NORMAL2-IM-1237-0001.jpeg  \n",
            "  inflating: Dataset/Normal/NORMAL2-IM-1258-0001-0002.jpeg  \n",
            "  inflating: Dataset/Normal/NORMAL2-IM-1260-0001.jpeg  \n",
            "  inflating: Dataset/Normal/NORMAL2-IM-1291-0001.jpeg  \n",
            "  inflating: Dataset/Normal/NORMAL2-IM-1295-0001.jpeg  \n",
            "  inflating: Dataset/Normal/NORMAL2-IM-1301-0001.jpeg  \n",
            "  inflating: Dataset/Normal/NORMAL2-IM-1303-0001.jpeg  \n",
            "  inflating: Dataset/Normal/NORMAL2-IM-1336-0001.jpeg  \n",
            "  inflating: Dataset/Normal/NORMAL2-IM-1345-0001-0001.jpeg  \n",
            "  inflating: Dataset/Normal/NORMAL2-IM-1348-0001.jpeg  \n",
            "  inflating: Dataset/Normal/NORMAL2-IM-1350-0001.jpeg  \n",
            "  inflating: Dataset/Normal/NORMAL2-IM-1357-0001.jpeg  \n"
          ],
          "name": "stdout"
        }
      ]
    },
    {
      "cell_type": "code",
      "metadata": {
        "id": "xcv-sxX5D0K0"
      },
      "source": [
        "TRAIN_PATH = \"Dataset/Train\""
      ],
      "execution_count": 12,
      "outputs": []
    },
    {
      "cell_type": "code",
      "metadata": {
        "id": "tWLZPieQiEwd"
      },
      "source": [
        "VAL_PATH = \"Dataset/Test\""
      ],
      "execution_count": 13,
      "outputs": []
    },
    {
      "cell_type": "code",
      "metadata": {
        "id": "yDHtb4-uiN_w"
      },
      "source": [
        "import numpy as np\n",
        "import matplotlib.pyplot as plt\n",
        "import keras\n",
        "from keras.layers import *\n",
        "from keras.models import *\n",
        "from keras.preprocessing import image"
      ],
      "execution_count": 14,
      "outputs": []
    },
    {
      "cell_type": "code",
      "metadata": {
        "id": "XQDfYNB-itzq"
      },
      "source": [
        "#CNN based model in keras\n",
        "model = Sequential()\n",
        "model.add(Conv2D(32,kernel_size=(3,3),activation='relu',input_shape=(224,224,3)))\n",
        "model.add(Conv2D(64,(3,3),activation='relu'))\n",
        "model.add(MaxPooling2D(pool_size=(2,2)))\n",
        "model.add(Dropout(0.25))\n",
        "\n",
        "model.add(Conv2D(64,(3,3),activation='relu'))\n",
        "model.add(MaxPooling2D(pool_size=(2,2)))\n",
        "model.add(Dropout(0.25))\n",
        "\n",
        "model.add(Conv2D(128,(3,3),activation='relu'))\n",
        "model.add(MaxPooling2D(pool_size=(2,2)))\n",
        "model.add(Dropout(0.25)) \n",
        "\n",
        "model.add(Flatten())\n",
        "model.add(Dense(64,activation='relu'))\n",
        "model.add(Dropout(0.5))\n",
        "model.add(Dense(1,activation='sigmoid'))\n",
        "\n",
        "model.compile(loss=keras.losses.binary_crossentropy,optimizer='adam',metrics=['accuracy'])"
      ],
      "execution_count": 36,
      "outputs": []
    },
    {
      "cell_type": "code",
      "metadata": {
        "colab": {
          "base_uri": "https://localhost:8080/"
        },
        "id": "HVHbvgKrzBzo",
        "outputId": "d7ff3bb6-cb03-4da2-a285-e97e387f0570"
      },
      "source": [
        "model.summary()"
      ],
      "execution_count": 16,
      "outputs": [
        {
          "output_type": "stream",
          "text": [
            "Model: \"sequential_1\"\n",
            "_________________________________________________________________\n",
            "Layer (type)                 Output Shape              Param #   \n",
            "=================================================================\n",
            "conv2d_4 (Conv2D)            (None, 222, 222, 32)      896       \n",
            "_________________________________________________________________\n",
            "conv2d_5 (Conv2D)            (None, 220, 220, 64)      18496     \n",
            "_________________________________________________________________\n",
            "max_pooling2d_3 (MaxPooling2 (None, 110, 110, 64)      0         \n",
            "_________________________________________________________________\n",
            "dropout_4 (Dropout)          (None, 110, 110, 64)      0         \n",
            "_________________________________________________________________\n",
            "conv2d_6 (Conv2D)            (None, 108, 108, 64)      36928     \n",
            "_________________________________________________________________\n",
            "max_pooling2d_4 (MaxPooling2 (None, 54, 54, 64)        0         \n",
            "_________________________________________________________________\n",
            "dropout_5 (Dropout)          (None, 54, 54, 64)        0         \n",
            "_________________________________________________________________\n",
            "conv2d_7 (Conv2D)            (None, 52, 52, 128)       73856     \n",
            "_________________________________________________________________\n",
            "max_pooling2d_5 (MaxPooling2 (None, 26, 26, 128)       0         \n",
            "_________________________________________________________________\n",
            "dropout_6 (Dropout)          (None, 26, 26, 128)       0         \n",
            "_________________________________________________________________\n",
            "flatten_1 (Flatten)          (None, 86528)             0         \n",
            "_________________________________________________________________\n",
            "dense_2 (Dense)              (None, 64)                5537856   \n",
            "_________________________________________________________________\n",
            "dropout_7 (Dropout)          (None, 64)                0         \n",
            "_________________________________________________________________\n",
            "dense_3 (Dense)              (None, 1)                 65        \n",
            "=================================================================\n",
            "Total params: 5,668,097\n",
            "Trainable params: 5,668,097\n",
            "Non-trainable params: 0\n",
            "_________________________________________________________________\n"
          ],
          "name": "stdout"
        }
      ]
    },
    {
      "cell_type": "code",
      "metadata": {
        "id": "kUdKkK8_zT0C"
      },
      "source": [
        "#Train from skratch\n",
        "train_datagen = image.ImageDataGenerator(\n",
        "    rescale = 1./255,\n",
        "    shear_range = 0.2,\n",
        "    zoom_range = 0.2,\n",
        "    horizontal_flip = True,\n",
        ")\n",
        "\n",
        "test_dataset = image.ImageDataGenerator(rescale=1./255)"
      ],
      "execution_count": 54,
      "outputs": []
    },
    {
      "cell_type": "code",
      "metadata": {
        "colab": {
          "base_uri": "https://localhost:8080/"
        },
        "id": "Odmr0kou0a0B",
        "outputId": "98eec02d-bdab-4125-fc9f-9fecad5624c9"
      },
      "source": [
        "train_generator = train_datagen.flow_from_directory(\n",
        "    'Dataset/Train',\n",
        "    target_size = (224,224),\n",
        "    batch_size = 32,\n",
        "    class_mode = 'binary'\n",
        ")"
      ],
      "execution_count": 55,
      "outputs": [
        {
          "output_type": "stream",
          "text": [
            "Found 338 images belonging to 2 classes.\n"
          ],
          "name": "stdout"
        }
      ]
    },
    {
      "cell_type": "code",
      "metadata": {
        "colab": {
          "base_uri": "https://localhost:8080/"
        },
        "id": "OWx35BkN1Q0x",
        "outputId": "64254c38-c0e9-4f85-89fb-0426d6356985"
      },
      "source": [
        "train_generator.class_indices"
      ],
      "execution_count": 56,
      "outputs": [
        {
          "output_type": "execute_result",
          "data": {
            "text/plain": [
              "{'Covid': 0, 'Normal': 1}"
            ]
          },
          "metadata": {},
          "execution_count": 56
        }
      ]
    },
    {
      "cell_type": "code",
      "metadata": {
        "colab": {
          "base_uri": "https://localhost:8080/"
        },
        "id": "_b6EVngj-H2m",
        "outputId": "c8c15397-21bb-40ed-922a-7c4e1ada75ed"
      },
      "source": [
        "validation_generator = test_dataset.flow_from_directory(\n",
        "    'Dataset/Val',\n",
        "    target_size = (224,224),\n",
        "    batch_size = 32,\n",
        "    class_mode = 'binary'\n",
        ")"
      ],
      "execution_count": 57,
      "outputs": [
        {
          "output_type": "stream",
          "text": [
            "Found 338 images belonging to 3 classes.\n"
          ],
          "name": "stdout"
        }
      ]
    },
    {
      "cell_type": "code",
      "metadata": {
        "colab": {
          "base_uri": "https://localhost:8080/"
        },
        "id": "TUPcHD2T-n8e",
        "outputId": "29fa3b40-455a-44bd-fe24-9e23399f0896"
      },
      "source": [
        "hist = model.fit_generator(\n",
        "    train_generator,\n",
        "    steps_per_epoch=8,\n",
        "    epochs = 10,\n",
        "    validation_data = validation_generator,\n",
        "    validation_steps = 2\n",
        ")"
      ],
      "execution_count": 58,
      "outputs": [
        {
          "output_type": "stream",
          "text": [
            "/usr/local/lib/python3.7/dist-packages/keras/engine/training.py:1972: UserWarning: `Model.fit_generator` is deprecated and will be removed in a future version. Please use `Model.fit`, which supports generators.\n",
            "  warnings.warn('`Model.fit_generator` is deprecated and '\n"
          ],
          "name": "stderr"
        },
        {
          "output_type": "stream",
          "text": [
            "Epoch 1/10\n",
            "8/8 [==============================] - 14s 2s/step - loss: 0.9905 - accuracy: 0.6446 - val_loss: 0.6324 - val_accuracy: 0.0312\n",
            "Epoch 2/10\n",
            "8/8 [==============================] - 12s 2s/step - loss: 0.5180 - accuracy: 0.7603 - val_loss: 0.5673 - val_accuracy: 0.0156\n",
            "Epoch 3/10\n",
            "8/8 [==============================] - 13s 2s/step - loss: 0.3464 - accuracy: 0.8633 - val_loss: 0.0306 - val_accuracy: 0.0469\n",
            "Epoch 4/10\n",
            "8/8 [==============================] - 13s 2s/step - loss: 0.2399 - accuracy: 0.9062 - val_loss: 1.1973 - val_accuracy: 0.0000e+00\n",
            "Epoch 5/10\n",
            "8/8 [==============================] - 13s 2s/step - loss: 0.2091 - accuracy: 0.9215 - val_loss: 0.6175 - val_accuracy: 0.0156\n",
            "Epoch 6/10\n",
            "8/8 [==============================] - 12s 2s/step - loss: 0.2399 - accuracy: 0.9050 - val_loss: 0.8640 - val_accuracy: 0.0000e+00\n",
            "Epoch 7/10\n",
            "8/8 [==============================] - 12s 2s/step - loss: 0.2061 - accuracy: 0.9380 - val_loss: 1.0308 - val_accuracy: 0.0000e+00\n",
            "Epoch 8/10\n",
            "8/8 [==============================] - 13s 2s/step - loss: 0.1335 - accuracy: 0.9587 - val_loss: 1.4851 - val_accuracy: 0.0156\n",
            "Epoch 9/10\n",
            "8/8 [==============================] - 12s 1s/step - loss: 0.1920 - accuracy: 0.9380 - val_loss: 0.3783 - val_accuracy: 0.0312\n",
            "Epoch 10/10\n",
            "8/8 [==============================] - 12s 2s/step - loss: 0.2028 - accuracy: 0.9174 - val_loss: 1.0871 - val_accuracy: 0.0625\n"
          ],
          "name": "stdout"
        }
      ]
    },
    {
      "cell_type": "code",
      "metadata": {
        "id": "UkuIgs6DAZx3"
      },
      "source": [
        " model.save(\"model_adv.h5\")"
      ],
      "execution_count": 59,
      "outputs": []
    },
    {
      "cell_type": "code",
      "metadata": {
        "colab": {
          "base_uri": "https://localhost:8080/"
        },
        "id": "jw-jbCAlAsPK",
        "outputId": "9e295658-8991-4375-be84-4b944a1f1448"
      },
      "source": [
        "model.evaluate_generator(train_generator)"
      ],
      "execution_count": 60,
      "outputs": [
        {
          "output_type": "stream",
          "text": [
            "/usr/local/lib/python3.7/dist-packages/keras/engine/training.py:2006: UserWarning: `Model.evaluate_generator` is deprecated and will be removed in a future version. Please use `Model.evaluate`, which supports generators.\n",
            "  warnings.warn('`Model.evaluate_generator` is deprecated and '\n"
          ],
          "name": "stderr"
        },
        {
          "output_type": "execute_result",
          "data": {
            "text/plain": [
              "[0.12701623141765594, 0.9615384340286255]"
            ]
          },
          "metadata": {},
          "execution_count": 60
        }
      ]
    },
    {
      "cell_type": "code",
      "metadata": {
        "colab": {
          "base_uri": "https://localhost:8080/"
        },
        "id": "niMPI6geA4oi",
        "outputId": "26586540-61cc-4d62-edd6-1d6c7c4481c6"
      },
      "source": [
        "model.evaluate(validation_generator)"
      ],
      "execution_count": 61,
      "outputs": [
        {
          "output_type": "stream",
          "text": [
            "11/11 [==============================] - 9s 791ms/step - loss: 0.9546 - accuracy: 0.0237\n"
          ],
          "name": "stdout"
        },
        {
          "output_type": "execute_result",
          "data": {
            "text/plain": [
              "[0.9545621871948242, 0.023668639361858368]"
            ]
          },
          "metadata": {},
          "execution_count": 61
        }
      ]
    },
    {
      "cell_type": "code",
      "metadata": {
        "id": "GihLoXW6BAYb"
      },
      "source": [
        "model = load_model('model_adv.h5')"
      ],
      "execution_count": 62,
      "outputs": []
    },
    {
      "cell_type": "code",
      "metadata": {
        "id": "T611KN_MBIiL"
      },
      "source": [
        "import os"
      ],
      "execution_count": 63,
      "outputs": []
    },
    {
      "cell_type": "code",
      "metadata": {
        "colab": {
          "base_uri": "https://localhost:8080/"
        },
        "id": "gDaKM_JBBKG_",
        "outputId": "97c05d82-18d1-4d3a-cbe3-21f1c6d5af75"
      },
      "source": [
        "train_generator.class_indices"
      ],
      "execution_count": 64,
      "outputs": [
        {
          "output_type": "execute_result",
          "data": {
            "text/plain": [
              "{'Covid': 0, 'Normal': 1}"
            ]
          },
          "metadata": {},
          "execution_count": 64
        }
      ]
    },
    {
      "cell_type": "code",
      "metadata": {
        "id": "Wb8CBdB1BOSM"
      },
      "source": [
        "y_actual = []\n",
        "y_test = []"
      ],
      "execution_count": 65,
      "outputs": []
    },
    {
      "cell_type": "code",
      "metadata": {
        "colab": {
          "base_uri": "https://localhost:8080/"
        },
        "id": "nNgSe37DBaa8",
        "outputId": "3ee1f9de-4dfb-422c-eb47-6b82bd866a5b"
      },
      "source": [
        "for i in os.listdir(\"./Dataset/Val/Normal/\"):\n",
        "  img = image.load_img(\"./Dataset/Val/Normal/\"+i, target_size = (224,224))\n",
        "  img = image.img_to_array(img)\n",
        "  img = np.expand_dims(img, axis=0)\n",
        "  p = model.predict_generator(img)\n",
        "  y_test.append(p[0,0])\n",
        "  y_actual.append(1)"
      ],
      "execution_count": 67,
      "outputs": [
        {
          "output_type": "stream",
          "text": [
            "/usr/local/lib/python3.7/dist-packages/keras/engine/training.py:2035: UserWarning: `Model.predict_generator` is deprecated and will be removed in a future version. Please use `Model.predict`, which supports generators.\n",
            "  warnings.warn('`Model.predict_generator` is deprecated and '\n"
          ],
          "name": "stderr"
        }
      ]
    },
    {
      "cell_type": "code",
      "metadata": {
        "id": "7n-RMOfHE0pk"
      },
      "source": [
        "for i in os.listdir(\"./Dataset/Val/Covid/\"):\n",
        "  img = image.load_img(\"./Dataset/Val/Covid/\"+i, target_size = (224,224))\n",
        "  img = image.img_to_array(img)\n",
        "  img = np.expand_dims(img, axis=0)\n",
        "  p = model.predict(img)\n",
        "  y_test.append(p[0,0])\n",
        "  y_actual.append(0)"
      ],
      "execution_count": 68,
      "outputs": []
    },
    {
      "cell_type": "code",
      "metadata": {
        "id": "t8xWHM81FApp"
      },
      "source": [
        "y_actual = np.array(y_actual)\n",
        "y_test = np.array(y_test)"
      ],
      "execution_count": 69,
      "outputs": []
    },
    {
      "cell_type": "code",
      "metadata": {
        "id": "IlhFvjIvFaCD"
      },
      "source": [
        "from sklearn.metrics import confusion_matrix"
      ],
      "execution_count": 70,
      "outputs": []
    },
    {
      "cell_type": "code",
      "metadata": {
        "id": "-0rUptxaFgOj"
      },
      "source": [
        "import seaborn as sns"
      ],
      "execution_count": 71,
      "outputs": []
    },
    {
      "cell_type": "code",
      "metadata": {
        "id": "MDTBXTa-FmJE"
      },
      "source": [
        "from sklearn.metrics import classification_report"
      ],
      "execution_count": 72,
      "outputs": []
    },
    {
      "cell_type": "code",
      "metadata": {
        "colab": {
          "base_uri": "https://localhost:8080/",
          "height": 421
        },
        "id": "5TChDocTGZCE",
        "outputId": "dc577e4a-4919-4aca-b673-e1846d90e53b"
      },
      "source": [
        "cm = confusion_matrix(y_actual, y_test)"
      ],
      "execution_count": 73,
      "outputs": [
        {
          "output_type": "error",
          "ename": "ValueError",
          "evalue": "ignored",
          "traceback": [
            "\u001b[0;31m---------------------------------------------------------------------------\u001b[0m",
            "\u001b[0;31mValueError\u001b[0m                                Traceback (most recent call last)",
            "\u001b[0;32m<ipython-input-73-bfc3464462c3>\u001b[0m in \u001b[0;36m<module>\u001b[0;34m()\u001b[0m\n\u001b[0;32m----> 1\u001b[0;31m \u001b[0mcm\u001b[0m \u001b[0;34m=\u001b[0m \u001b[0mconfusion_matrix\u001b[0m\u001b[0;34m(\u001b[0m\u001b[0my_actual\u001b[0m\u001b[0;34m,\u001b[0m \u001b[0my_test\u001b[0m\u001b[0;34m)\u001b[0m\u001b[0;34m\u001b[0m\u001b[0;34m\u001b[0m\u001b[0m\n\u001b[0m",
            "\u001b[0;32m/usr/local/lib/python3.7/dist-packages/sklearn/metrics/_classification.py\u001b[0m in \u001b[0;36mconfusion_matrix\u001b[0;34m(y_true, y_pred, labels, sample_weight, normalize)\u001b[0m\n\u001b[1;32m    266\u001b[0m \u001b[0;34m\u001b[0m\u001b[0m\n\u001b[1;32m    267\u001b[0m     \"\"\"\n\u001b[0;32m--> 268\u001b[0;31m     \u001b[0my_type\u001b[0m\u001b[0;34m,\u001b[0m \u001b[0my_true\u001b[0m\u001b[0;34m,\u001b[0m \u001b[0my_pred\u001b[0m \u001b[0;34m=\u001b[0m \u001b[0m_check_targets\u001b[0m\u001b[0;34m(\u001b[0m\u001b[0my_true\u001b[0m\u001b[0;34m,\u001b[0m \u001b[0my_pred\u001b[0m\u001b[0;34m)\u001b[0m\u001b[0;34m\u001b[0m\u001b[0;34m\u001b[0m\u001b[0m\n\u001b[0m\u001b[1;32m    269\u001b[0m     \u001b[0;32mif\u001b[0m \u001b[0my_type\u001b[0m \u001b[0;32mnot\u001b[0m \u001b[0;32min\u001b[0m \u001b[0;34m(\u001b[0m\u001b[0;34m\"binary\"\u001b[0m\u001b[0;34m,\u001b[0m \u001b[0;34m\"multiclass\"\u001b[0m\u001b[0;34m)\u001b[0m\u001b[0;34m:\u001b[0m\u001b[0;34m\u001b[0m\u001b[0;34m\u001b[0m\u001b[0m\n\u001b[1;32m    270\u001b[0m         \u001b[0;32mraise\u001b[0m \u001b[0mValueError\u001b[0m\u001b[0;34m(\u001b[0m\u001b[0;34m\"%s is not supported\"\u001b[0m \u001b[0;34m%\u001b[0m \u001b[0my_type\u001b[0m\u001b[0;34m)\u001b[0m\u001b[0;34m\u001b[0m\u001b[0;34m\u001b[0m\u001b[0m\n",
            "\u001b[0;32m/usr/local/lib/python3.7/dist-packages/sklearn/metrics/_classification.py\u001b[0m in \u001b[0;36m_check_targets\u001b[0;34m(y_true, y_pred)\u001b[0m\n\u001b[1;32m     88\u001b[0m     \u001b[0;32mif\u001b[0m \u001b[0mlen\u001b[0m\u001b[0;34m(\u001b[0m\u001b[0my_type\u001b[0m\u001b[0;34m)\u001b[0m \u001b[0;34m>\u001b[0m \u001b[0;36m1\u001b[0m\u001b[0;34m:\u001b[0m\u001b[0;34m\u001b[0m\u001b[0;34m\u001b[0m\u001b[0m\n\u001b[1;32m     89\u001b[0m         raise ValueError(\"Classification metrics can't handle a mix of {0} \"\n\u001b[0;32m---> 90\u001b[0;31m                          \"and {1} targets\".format(type_true, type_pred))\n\u001b[0m\u001b[1;32m     91\u001b[0m \u001b[0;34m\u001b[0m\u001b[0m\n\u001b[1;32m     92\u001b[0m     \u001b[0;31m# We can't have more than one value on y_type => The set is no more needed\u001b[0m\u001b[0;34m\u001b[0m\u001b[0;34m\u001b[0m\u001b[0;34m\u001b[0m\u001b[0m\n",
            "\u001b[0;31mValueError\u001b[0m: Classification metrics can't handle a mix of binary and continuous targets"
          ]
        }
      ]
    }
  ]
}